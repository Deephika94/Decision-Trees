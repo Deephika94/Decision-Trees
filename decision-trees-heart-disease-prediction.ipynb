{
 "cells": [
  {
   "cell_type": "code",
   "execution_count": 1,
   "id": "e8e94ab3",
   "metadata": {
    "_cell_guid": "b1076dfc-b9ad-4769-8c92-a6c4dae69d19",
    "_uuid": "8f2839f25d086af736a60e9eeb907d3b93b6e0e5",
    "execution": {
     "iopub.execute_input": "2024-09-29T22:40:27.383591Z",
     "iopub.status.busy": "2024-09-29T22:40:27.383149Z",
     "iopub.status.idle": "2024-09-29T22:40:28.223637Z",
     "shell.execute_reply": "2024-09-29T22:40:28.222300Z"
    },
    "papermill": {
     "duration": 0.853653,
     "end_time": "2024-09-29T22:40:28.226539",
     "exception": false,
     "start_time": "2024-09-29T22:40:27.372886",
     "status": "completed"
    },
    "tags": []
   },
   "outputs": [
    {
     "name": "stdout",
     "output_type": "stream",
     "text": [
      "/kaggle/input/heart-failure-prediction/heart.csv\n"
     ]
    }
   ],
   "source": [
    "# This Python 3 environment comes with many helpful analytics libraries installed\n",
    "# It is defined by the kaggle/python Docker image: https://github.com/kaggle/docker-python\n",
    "# For example, here's several helpful packages to load\n",
    "\n",
    "import numpy as np # linear algebra\n",
    "import pandas as pd # data processing, CSV file I/O (e.g. pd.read_csv)\n",
    "\n",
    "# Input data files are available in the read-only \"../input/\" directory\n",
    "# For example, running this (by clicking run or pressing Shift+Enter) will list all files under the input directory\n",
    "\n",
    "import os\n",
    "for dirname, _, filenames in os.walk('/kaggle/input'):\n",
    "    for filename in filenames:\n",
    "        print(os.path.join(dirname, filename))\n",
    "\n",
    "# You can write up to 20GB to the current directory (/kaggle/working/) that gets preserved as output when you create a version using \"Save & Run All\" \n",
    "# You can also write temporary files to /kaggle/temp/, but they won't be saved outside of the current session"
   ]
  },
  {
   "cell_type": "markdown",
   "id": "4b1ee2d6",
   "metadata": {
    "papermill": {
     "duration": 0.00792,
     "end_time": "2024-09-29T22:40:28.242793",
     "exception": false,
     "start_time": "2024-09-29T22:40:28.234873",
     "status": "completed"
    },
    "tags": []
   },
   "source": [
    "#### IMPORTS"
   ]
  },
  {
   "cell_type": "code",
   "execution_count": 2,
   "id": "9942400a",
   "metadata": {
    "execution": {
     "iopub.execute_input": "2024-09-29T22:40:28.260545Z",
     "iopub.status.busy": "2024-09-29T22:40:28.259976Z",
     "iopub.status.idle": "2024-09-29T22:40:30.052990Z",
     "shell.execute_reply": "2024-09-29T22:40:30.051930Z"
    },
    "papermill": {
     "duration": 1.805207,
     "end_time": "2024-09-29T22:40:30.055961",
     "exception": false,
     "start_time": "2024-09-29T22:40:28.250754",
     "status": "completed"
    },
    "tags": []
   },
   "outputs": [],
   "source": [
    "import numpy as np\n",
    "import pandas as pd\n",
    "import matplotlib.pyplot as plt\n",
    "\n",
    "from sklearn.model_selection import train_test_split\n",
    "from sklearn.metrics import accuracy_score\n",
    "\n",
    "#tree ensembles\n",
    "from sklearn.tree import DecisionTreeClassifier\n",
    "from sklearn.ensemble import RandomForestClassifier\n",
    "from xgboost import XGBClassifier"
   ]
  },
  {
   "cell_type": "markdown",
   "id": "3bf3ec39",
   "metadata": {
    "papermill": {
     "duration": 0.007897,
     "end_time": "2024-09-29T22:40:30.072117",
     "exception": false,
     "start_time": "2024-09-29T22:40:30.064220",
     "status": "completed"
    },
    "tags": []
   },
   "source": [
    "#### LOADING THE DATASET"
   ]
  },
  {
   "cell_type": "code",
   "execution_count": 3,
   "id": "da55ffb7",
   "metadata": {
    "execution": {
     "iopub.execute_input": "2024-09-29T22:40:30.090937Z",
     "iopub.status.busy": "2024-09-29T22:40:30.090404Z",
     "iopub.status.idle": "2024-09-29T22:40:30.113734Z",
     "shell.execute_reply": "2024-09-29T22:40:30.112427Z"
    },
    "papermill": {
     "duration": 0.035512,
     "end_time": "2024-09-29T22:40:30.116519",
     "exception": false,
     "start_time": "2024-09-29T22:40:30.081007",
     "status": "completed"
    },
    "tags": []
   },
   "outputs": [
    {
     "data": {
      "text/plain": [
       "(918, 12)"
      ]
     },
     "execution_count": 3,
     "metadata": {},
     "output_type": "execute_result"
    }
   ],
   "source": [
    "data = pd.read_csv(\"/kaggle/input/heart-failure-prediction/heart.csv\")\n",
    "data.shape"
   ]
  },
  {
   "cell_type": "code",
   "execution_count": 4,
   "id": "e9ed17cb",
   "metadata": {
    "execution": {
     "iopub.execute_input": "2024-09-29T22:40:30.135133Z",
     "iopub.status.busy": "2024-09-29T22:40:30.134711Z",
     "iopub.status.idle": "2024-09-29T22:40:30.165564Z",
     "shell.execute_reply": "2024-09-29T22:40:30.164248Z"
    },
    "papermill": {
     "duration": 0.043333,
     "end_time": "2024-09-29T22:40:30.168319",
     "exception": false,
     "start_time": "2024-09-29T22:40:30.124986",
     "status": "completed"
    },
    "tags": []
   },
   "outputs": [
    {
     "data": {
      "text/html": [
       "<div>\n",
       "<style scoped>\n",
       "    .dataframe tbody tr th:only-of-type {\n",
       "        vertical-align: middle;\n",
       "    }\n",
       "\n",
       "    .dataframe tbody tr th {\n",
       "        vertical-align: top;\n",
       "    }\n",
       "\n",
       "    .dataframe thead th {\n",
       "        text-align: right;\n",
       "    }\n",
       "</style>\n",
       "<table border=\"1\" class=\"dataframe\">\n",
       "  <thead>\n",
       "    <tr style=\"text-align: right;\">\n",
       "      <th></th>\n",
       "      <th>Age</th>\n",
       "      <th>Sex</th>\n",
       "      <th>ChestPainType</th>\n",
       "      <th>RestingBP</th>\n",
       "      <th>Cholesterol</th>\n",
       "      <th>FastingBS</th>\n",
       "      <th>RestingECG</th>\n",
       "      <th>MaxHR</th>\n",
       "      <th>ExerciseAngina</th>\n",
       "      <th>Oldpeak</th>\n",
       "      <th>ST_Slope</th>\n",
       "      <th>HeartDisease</th>\n",
       "    </tr>\n",
       "  </thead>\n",
       "  <tbody>\n",
       "    <tr>\n",
       "      <th>0</th>\n",
       "      <td>40</td>\n",
       "      <td>M</td>\n",
       "      <td>ATA</td>\n",
       "      <td>140</td>\n",
       "      <td>289</td>\n",
       "      <td>0</td>\n",
       "      <td>Normal</td>\n",
       "      <td>172</td>\n",
       "      <td>N</td>\n",
       "      <td>0.0</td>\n",
       "      <td>Up</td>\n",
       "      <td>0</td>\n",
       "    </tr>\n",
       "    <tr>\n",
       "      <th>1</th>\n",
       "      <td>49</td>\n",
       "      <td>F</td>\n",
       "      <td>NAP</td>\n",
       "      <td>160</td>\n",
       "      <td>180</td>\n",
       "      <td>0</td>\n",
       "      <td>Normal</td>\n",
       "      <td>156</td>\n",
       "      <td>N</td>\n",
       "      <td>1.0</td>\n",
       "      <td>Flat</td>\n",
       "      <td>1</td>\n",
       "    </tr>\n",
       "    <tr>\n",
       "      <th>2</th>\n",
       "      <td>37</td>\n",
       "      <td>M</td>\n",
       "      <td>ATA</td>\n",
       "      <td>130</td>\n",
       "      <td>283</td>\n",
       "      <td>0</td>\n",
       "      <td>ST</td>\n",
       "      <td>98</td>\n",
       "      <td>N</td>\n",
       "      <td>0.0</td>\n",
       "      <td>Up</td>\n",
       "      <td>0</td>\n",
       "    </tr>\n",
       "    <tr>\n",
       "      <th>3</th>\n",
       "      <td>48</td>\n",
       "      <td>F</td>\n",
       "      <td>ASY</td>\n",
       "      <td>138</td>\n",
       "      <td>214</td>\n",
       "      <td>0</td>\n",
       "      <td>Normal</td>\n",
       "      <td>108</td>\n",
       "      <td>Y</td>\n",
       "      <td>1.5</td>\n",
       "      <td>Flat</td>\n",
       "      <td>1</td>\n",
       "    </tr>\n",
       "    <tr>\n",
       "      <th>4</th>\n",
       "      <td>54</td>\n",
       "      <td>M</td>\n",
       "      <td>NAP</td>\n",
       "      <td>150</td>\n",
       "      <td>195</td>\n",
       "      <td>0</td>\n",
       "      <td>Normal</td>\n",
       "      <td>122</td>\n",
       "      <td>N</td>\n",
       "      <td>0.0</td>\n",
       "      <td>Up</td>\n",
       "      <td>0</td>\n",
       "    </tr>\n",
       "  </tbody>\n",
       "</table>\n",
       "</div>"
      ],
      "text/plain": [
       "   Age Sex ChestPainType  RestingBP  Cholesterol  FastingBS RestingECG  MaxHR  \\\n",
       "0   40   M           ATA        140          289          0     Normal    172   \n",
       "1   49   F           NAP        160          180          0     Normal    156   \n",
       "2   37   M           ATA        130          283          0         ST     98   \n",
       "3   48   F           ASY        138          214          0     Normal    108   \n",
       "4   54   M           NAP        150          195          0     Normal    122   \n",
       "\n",
       "  ExerciseAngina  Oldpeak ST_Slope  HeartDisease  \n",
       "0              N      0.0       Up             0  \n",
       "1              N      1.0     Flat             1  \n",
       "2              N      0.0       Up             0  \n",
       "3              Y      1.5     Flat             1  \n",
       "4              N      0.0       Up             0  "
      ]
     },
     "execution_count": 4,
     "metadata": {},
     "output_type": "execute_result"
    }
   ],
   "source": [
    "data.head()"
   ]
  },
  {
   "cell_type": "markdown",
   "id": "7cfc63f9",
   "metadata": {
    "papermill": {
     "duration": 0.008437,
     "end_time": "2024-09-29T22:40:30.185526",
     "exception": false,
     "start_time": "2024-09-29T22:40:30.177089",
     "status": "completed"
    },
    "tags": []
   },
   "source": [
    "#### ONE HOT ENCODING OF CATEGORICAL COLUMNS"
   ]
  },
  {
   "cell_type": "code",
   "execution_count": 5,
   "id": "fa72eefe",
   "metadata": {
    "execution": {
     "iopub.execute_input": "2024-09-29T22:40:30.205216Z",
     "iopub.status.busy": "2024-09-29T22:40:30.204775Z",
     "iopub.status.idle": "2024-09-29T22:40:30.210018Z",
     "shell.execute_reply": "2024-09-29T22:40:30.208841Z"
    },
    "papermill": {
     "duration": 0.017552,
     "end_time": "2024-09-29T22:40:30.212558",
     "exception": false,
     "start_time": "2024-09-29T22:40:30.195006",
     "status": "completed"
    },
    "tags": []
   },
   "outputs": [],
   "source": [
    "category_names = [\"Sex\",\"ChestPainType\",\"RestingECG\",\"ExerciseAngina\",\"ST_Slope\"]"
   ]
  },
  {
   "cell_type": "code",
   "execution_count": 6,
   "id": "1eee8683",
   "metadata": {
    "execution": {
     "iopub.execute_input": "2024-09-29T22:40:30.231240Z",
     "iopub.status.busy": "2024-09-29T22:40:30.230831Z",
     "iopub.status.idle": "2024-09-29T22:40:30.252064Z",
     "shell.execute_reply": "2024-09-29T22:40:30.251115Z"
    },
    "papermill": {
     "duration": 0.033507,
     "end_time": "2024-09-29T22:40:30.254682",
     "exception": false,
     "start_time": "2024-09-29T22:40:30.221175",
     "status": "completed"
    },
    "tags": []
   },
   "outputs": [],
   "source": [
    "data = pd.get_dummies(data, prefix=category_names, columns=category_names, dtype=float)"
   ]
  },
  {
   "cell_type": "code",
   "execution_count": 7,
   "id": "d79edc51",
   "metadata": {
    "execution": {
     "iopub.execute_input": "2024-09-29T22:40:30.273514Z",
     "iopub.status.busy": "2024-09-29T22:40:30.273079Z",
     "iopub.status.idle": "2024-09-29T22:40:30.303498Z",
     "shell.execute_reply": "2024-09-29T22:40:30.302279Z"
    },
    "papermill": {
     "duration": 0.042844,
     "end_time": "2024-09-29T22:40:30.306007",
     "exception": false,
     "start_time": "2024-09-29T22:40:30.263163",
     "status": "completed"
    },
    "tags": []
   },
   "outputs": [
    {
     "data": {
      "text/html": [
       "<div>\n",
       "<style scoped>\n",
       "    .dataframe tbody tr th:only-of-type {\n",
       "        vertical-align: middle;\n",
       "    }\n",
       "\n",
       "    .dataframe tbody tr th {\n",
       "        vertical-align: top;\n",
       "    }\n",
       "\n",
       "    .dataframe thead th {\n",
       "        text-align: right;\n",
       "    }\n",
       "</style>\n",
       "<table border=\"1\" class=\"dataframe\">\n",
       "  <thead>\n",
       "    <tr style=\"text-align: right;\">\n",
       "      <th></th>\n",
       "      <th>Age</th>\n",
       "      <th>RestingBP</th>\n",
       "      <th>Cholesterol</th>\n",
       "      <th>FastingBS</th>\n",
       "      <th>MaxHR</th>\n",
       "      <th>Oldpeak</th>\n",
       "      <th>HeartDisease</th>\n",
       "      <th>Sex_F</th>\n",
       "      <th>Sex_M</th>\n",
       "      <th>ChestPainType_ASY</th>\n",
       "      <th>...</th>\n",
       "      <th>ChestPainType_NAP</th>\n",
       "      <th>ChestPainType_TA</th>\n",
       "      <th>RestingECG_LVH</th>\n",
       "      <th>RestingECG_Normal</th>\n",
       "      <th>RestingECG_ST</th>\n",
       "      <th>ExerciseAngina_N</th>\n",
       "      <th>ExerciseAngina_Y</th>\n",
       "      <th>ST_Slope_Down</th>\n",
       "      <th>ST_Slope_Flat</th>\n",
       "      <th>ST_Slope_Up</th>\n",
       "    </tr>\n",
       "  </thead>\n",
       "  <tbody>\n",
       "    <tr>\n",
       "      <th>0</th>\n",
       "      <td>40</td>\n",
       "      <td>140</td>\n",
       "      <td>289</td>\n",
       "      <td>0</td>\n",
       "      <td>172</td>\n",
       "      <td>0.0</td>\n",
       "      <td>0</td>\n",
       "      <td>0.0</td>\n",
       "      <td>1.0</td>\n",
       "      <td>0.0</td>\n",
       "      <td>...</td>\n",
       "      <td>0.0</td>\n",
       "      <td>0.0</td>\n",
       "      <td>0.0</td>\n",
       "      <td>1.0</td>\n",
       "      <td>0.0</td>\n",
       "      <td>1.0</td>\n",
       "      <td>0.0</td>\n",
       "      <td>0.0</td>\n",
       "      <td>0.0</td>\n",
       "      <td>1.0</td>\n",
       "    </tr>\n",
       "    <tr>\n",
       "      <th>1</th>\n",
       "      <td>49</td>\n",
       "      <td>160</td>\n",
       "      <td>180</td>\n",
       "      <td>0</td>\n",
       "      <td>156</td>\n",
       "      <td>1.0</td>\n",
       "      <td>1</td>\n",
       "      <td>1.0</td>\n",
       "      <td>0.0</td>\n",
       "      <td>0.0</td>\n",
       "      <td>...</td>\n",
       "      <td>1.0</td>\n",
       "      <td>0.0</td>\n",
       "      <td>0.0</td>\n",
       "      <td>1.0</td>\n",
       "      <td>0.0</td>\n",
       "      <td>1.0</td>\n",
       "      <td>0.0</td>\n",
       "      <td>0.0</td>\n",
       "      <td>1.0</td>\n",
       "      <td>0.0</td>\n",
       "    </tr>\n",
       "    <tr>\n",
       "      <th>2</th>\n",
       "      <td>37</td>\n",
       "      <td>130</td>\n",
       "      <td>283</td>\n",
       "      <td>0</td>\n",
       "      <td>98</td>\n",
       "      <td>0.0</td>\n",
       "      <td>0</td>\n",
       "      <td>0.0</td>\n",
       "      <td>1.0</td>\n",
       "      <td>0.0</td>\n",
       "      <td>...</td>\n",
       "      <td>0.0</td>\n",
       "      <td>0.0</td>\n",
       "      <td>0.0</td>\n",
       "      <td>0.0</td>\n",
       "      <td>1.0</td>\n",
       "      <td>1.0</td>\n",
       "      <td>0.0</td>\n",
       "      <td>0.0</td>\n",
       "      <td>0.0</td>\n",
       "      <td>1.0</td>\n",
       "    </tr>\n",
       "    <tr>\n",
       "      <th>3</th>\n",
       "      <td>48</td>\n",
       "      <td>138</td>\n",
       "      <td>214</td>\n",
       "      <td>0</td>\n",
       "      <td>108</td>\n",
       "      <td>1.5</td>\n",
       "      <td>1</td>\n",
       "      <td>1.0</td>\n",
       "      <td>0.0</td>\n",
       "      <td>1.0</td>\n",
       "      <td>...</td>\n",
       "      <td>0.0</td>\n",
       "      <td>0.0</td>\n",
       "      <td>0.0</td>\n",
       "      <td>1.0</td>\n",
       "      <td>0.0</td>\n",
       "      <td>0.0</td>\n",
       "      <td>1.0</td>\n",
       "      <td>0.0</td>\n",
       "      <td>1.0</td>\n",
       "      <td>0.0</td>\n",
       "    </tr>\n",
       "    <tr>\n",
       "      <th>4</th>\n",
       "      <td>54</td>\n",
       "      <td>150</td>\n",
       "      <td>195</td>\n",
       "      <td>0</td>\n",
       "      <td>122</td>\n",
       "      <td>0.0</td>\n",
       "      <td>0</td>\n",
       "      <td>0.0</td>\n",
       "      <td>1.0</td>\n",
       "      <td>0.0</td>\n",
       "      <td>...</td>\n",
       "      <td>1.0</td>\n",
       "      <td>0.0</td>\n",
       "      <td>0.0</td>\n",
       "      <td>1.0</td>\n",
       "      <td>0.0</td>\n",
       "      <td>1.0</td>\n",
       "      <td>0.0</td>\n",
       "      <td>0.0</td>\n",
       "      <td>0.0</td>\n",
       "      <td>1.0</td>\n",
       "    </tr>\n",
       "  </tbody>\n",
       "</table>\n",
       "<p>5 rows × 21 columns</p>\n",
       "</div>"
      ],
      "text/plain": [
       "   Age  RestingBP  Cholesterol  FastingBS  MaxHR  Oldpeak  HeartDisease  \\\n",
       "0   40        140          289          0    172      0.0             0   \n",
       "1   49        160          180          0    156      1.0             1   \n",
       "2   37        130          283          0     98      0.0             0   \n",
       "3   48        138          214          0    108      1.5             1   \n",
       "4   54        150          195          0    122      0.0             0   \n",
       "\n",
       "   Sex_F  Sex_M  ChestPainType_ASY  ...  ChestPainType_NAP  ChestPainType_TA  \\\n",
       "0    0.0    1.0                0.0  ...                0.0               0.0   \n",
       "1    1.0    0.0                0.0  ...                1.0               0.0   \n",
       "2    0.0    1.0                0.0  ...                0.0               0.0   \n",
       "3    1.0    0.0                1.0  ...                0.0               0.0   \n",
       "4    0.0    1.0                0.0  ...                1.0               0.0   \n",
       "\n",
       "   RestingECG_LVH  RestingECG_Normal  RestingECG_ST  ExerciseAngina_N  \\\n",
       "0             0.0                1.0            0.0               1.0   \n",
       "1             0.0                1.0            0.0               1.0   \n",
       "2             0.0                0.0            1.0               1.0   \n",
       "3             0.0                1.0            0.0               0.0   \n",
       "4             0.0                1.0            0.0               1.0   \n",
       "\n",
       "   ExerciseAngina_Y  ST_Slope_Down  ST_Slope_Flat  ST_Slope_Up  \n",
       "0               0.0            0.0            0.0          1.0  \n",
       "1               0.0            0.0            1.0          0.0  \n",
       "2               0.0            0.0            0.0          1.0  \n",
       "3               1.0            0.0            1.0          0.0  \n",
       "4               0.0            0.0            0.0          1.0  \n",
       "\n",
       "[5 rows x 21 columns]"
      ]
     },
     "execution_count": 7,
     "metadata": {},
     "output_type": "execute_result"
    }
   ],
   "source": [
    "data.head()"
   ]
  },
  {
   "cell_type": "markdown",
   "id": "c8a12229",
   "metadata": {
    "papermill": {
     "duration": 0.0087,
     "end_time": "2024-09-29T22:40:30.323573",
     "exception": false,
     "start_time": "2024-09-29T22:40:30.314873",
     "status": "completed"
    },
    "tags": []
   },
   "source": [
    "#### TRAIN AND VALIDATION DATASET SPLIT"
   ]
  },
  {
   "cell_type": "code",
   "execution_count": 8,
   "id": "148b2455",
   "metadata": {
    "execution": {
     "iopub.execute_input": "2024-09-29T22:40:30.343194Z",
     "iopub.status.busy": "2024-09-29T22:40:30.342785Z",
     "iopub.status.idle": "2024-09-29T22:40:30.350434Z",
     "shell.execute_reply": "2024-09-29T22:40:30.349318Z"
    },
    "papermill": {
     "duration": 0.020426,
     "end_time": "2024-09-29T22:40:30.352932",
     "exception": false,
     "start_time": "2024-09-29T22:40:30.332506",
     "status": "completed"
    },
    "tags": []
   },
   "outputs": [
    {
     "data": {
      "text/plain": [
       "['Age',\n",
       " 'RestingBP',\n",
       " 'Cholesterol',\n",
       " 'FastingBS',\n",
       " 'MaxHR',\n",
       " 'Oldpeak',\n",
       " 'Sex_F',\n",
       " 'Sex_M',\n",
       " 'ChestPainType_ASY',\n",
       " 'ChestPainType_ATA',\n",
       " 'ChestPainType_NAP',\n",
       " 'ChestPainType_TA',\n",
       " 'RestingECG_LVH',\n",
       " 'RestingECG_Normal',\n",
       " 'RestingECG_ST',\n",
       " 'ExerciseAngina_N',\n",
       " 'ExerciseAngina_Y',\n",
       " 'ST_Slope_Down',\n",
       " 'ST_Slope_Flat',\n",
       " 'ST_Slope_Up']"
      ]
     },
     "execution_count": 8,
     "metadata": {},
     "output_type": "execute_result"
    }
   ],
   "source": [
    "x_cols = [x for x in data.columns if x!= \"HeartDisease\"]\n",
    "x_cols"
   ]
  },
  {
   "cell_type": "code",
   "execution_count": 9,
   "id": "4017781e",
   "metadata": {
    "execution": {
     "iopub.execute_input": "2024-09-29T22:40:30.373754Z",
     "iopub.status.busy": "2024-09-29T22:40:30.372552Z",
     "iopub.status.idle": "2024-09-29T22:40:30.386508Z",
     "shell.execute_reply": "2024-09-29T22:40:30.385331Z"
    },
    "papermill": {
     "duration": 0.027109,
     "end_time": "2024-09-29T22:40:30.389068",
     "exception": false,
     "start_time": "2024-09-29T22:40:30.361959",
     "status": "completed"
    },
    "tags": []
   },
   "outputs": [
    {
     "name": "stdout",
     "output_type": "stream",
     "text": [
      "Train x: (734, 20)\n",
      "Train y: (734,)\n",
      "Validation x: (184, 20)\n",
      "Validation y: (184,)\n"
     ]
    }
   ],
   "source": [
    "train_x, val_x, train_y, val_y = train_test_split(data[x_cols], data[\"HeartDisease\"], test_size=0.2, random_state=55)\n",
    "\n",
    "print(\"Train x:\",train_x.shape)\n",
    "print(\"Train y:\",train_y.shape)\n",
    "\n",
    "print(\"Validation x:\",val_x.shape)\n",
    "print(\"Validation y:\",val_y.shape)"
   ]
  },
  {
   "cell_type": "markdown",
   "id": "079664e5",
   "metadata": {
    "papermill": {
     "duration": 0.008912,
     "end_time": "2024-09-29T22:40:30.407076",
     "exception": false,
     "start_time": "2024-09-29T22:40:30.398164",
     "status": "completed"
    },
    "tags": []
   },
   "source": [
    "### MODELING"
   ]
  },
  {
   "cell_type": "markdown",
   "id": "07ce2358",
   "metadata": {
    "papermill": {
     "duration": 0.008824,
     "end_time": "2024-09-29T22:40:30.425356",
     "exception": false,
     "start_time": "2024-09-29T22:40:30.416532",
     "status": "completed"
    },
    "tags": []
   },
   "source": [
    "#### DECISION TREE"
   ]
  },
  {
   "cell_type": "code",
   "execution_count": 10,
   "id": "1b1b84c6",
   "metadata": {
    "execution": {
     "iopub.execute_input": "2024-09-29T22:40:30.446252Z",
     "iopub.status.busy": "2024-09-29T22:40:30.445044Z",
     "iopub.status.idle": "2024-09-29T22:40:30.451259Z",
     "shell.execute_reply": "2024-09-29T22:40:30.450265Z"
    },
    "papermill": {
     "duration": 0.019339,
     "end_time": "2024-09-29T22:40:30.453901",
     "exception": false,
     "start_time": "2024-09-29T22:40:30.434562",
     "status": "completed"
    },
    "tags": []
   },
   "outputs": [],
   "source": [
    "depth = [1,2,3,4,5,6,7,8,10]\n",
    "sample = [2,10, 30, 50, 100, 200, 300, 700]"
   ]
  },
  {
   "cell_type": "code",
   "execution_count": 11,
   "id": "86af6da2",
   "metadata": {
    "execution": {
     "iopub.execute_input": "2024-09-29T22:40:30.474353Z",
     "iopub.status.busy": "2024-09-29T22:40:30.473352Z",
     "iopub.status.idle": "2024-09-29T22:40:30.904164Z",
     "shell.execute_reply": "2024-09-29T22:40:30.903107Z"
    },
    "papermill": {
     "duration": 0.443781,
     "end_time": "2024-09-29T22:40:30.906827",
     "exception": false,
     "start_time": "2024-09-29T22:40:30.463046",
     "status": "completed"
    },
    "tags": []
   },
   "outputs": [
    {
     "data": {
      "text/plain": [
       "<matplotlib.legend.Legend at 0x780bb11cde40>"
      ]
     },
     "execution_count": 11,
     "metadata": {},
     "output_type": "execute_result"
    },
    {
     "data": {
      "image/png": "[encoded data removed]",
      "text/plain": [
       "<Figure size 640x480 with 1 Axes>"
      ]
     },
     "metadata": {},
     "output_type": "display_data"
    }
   ],
   "source": [
    "# tuning the max_depth parameter\n",
    "\n",
    "accuracy_list_t = []\n",
    "accuracy_list_v = []\n",
    "\n",
    "for d in depth:\n",
    "    tree_model = DecisionTreeClassifier(random_state=50, max_depth=d)\n",
    "    tree_model.fit(train_x,train_y)\n",
    "    #predicting train data\n",
    "    y_pred_train = tree_model.predict(train_x)\n",
    "    accuracy_train = accuracy_score(train_y,y_pred_train)\n",
    "    # predicting val data\n",
    "    y_pred_val = tree_model.predict(val_x)\n",
    "    accuracy_val = accuracy_score(val_y,y_pred_val)\n",
    "    accuracy_list_t.append(accuracy_train)\n",
    "    accuracy_list_v.append(accuracy_val)\n",
    "\n",
    "plt.xlabel(\"max depth\")\n",
    "plt.ylabel(\"accuracy\")\n",
    "plt.title(\"Accuracy scores\")\n",
    "plt.xticks(ticks=range(len(depth)), labels=depth) #ticks:location, labels:labels @ given x tick location\n",
    "plt.plot(accuracy_list_t)\n",
    "plt.plot(accuracy_list_v)\n",
    "plt.legend([\"Train\",\"Validation\"])"
   ]
  },
  {
   "cell_type": "markdown",
   "id": "91e9ad77",
   "metadata": {
    "papermill": {
     "duration": 0.009667,
     "end_time": "2024-09-29T22:40:30.926611",
     "exception": false,
     "start_time": "2024-09-29T22:40:30.916944",
     "status": "completed"
    },
    "tags": []
   },
   "source": [
    " - As the depth of the tree increases, the training accuracy reaches 1 while validation accuracy reduces - model is overfitting    \n",
    " - When the tree depth is < 3, both training and accuracy score drops.  \n",
    " - Validation score is highest when max depth = 4"
   ]
  },
  {
   "cell_type": "code",
   "execution_count": 12,
   "id": "56803469",
   "metadata": {
    "execution": {
     "iopub.execute_input": "2024-09-29T22:40:30.948496Z",
     "iopub.status.busy": "2024-09-29T22:40:30.947670Z",
     "iopub.status.idle": "2024-09-29T22:40:31.347194Z",
     "shell.execute_reply": "2024-09-29T22:40:31.346145Z"
    },
    "papermill": {
     "duration": 0.41326,
     "end_time": "2024-09-29T22:40:31.349615",
     "exception": false,
     "start_time": "2024-09-29T22:40:30.936355",
     "status": "completed"
    },
    "tags": []
   },
   "outputs": [
    {
     "data": {
      "text/plain": [
       "<matplotlib.legend.Legend at 0x780baf1370d0>"
      ]
     },
     "execution_count": 12,
     "metadata": {},
     "output_type": "execute_result"
    },
    {
     "data": {
      "image/png": "[encoded data removed]",
      "text/plain": [
       "<Figure size 640x480 with 1 Axes>"
      ]
     },
     "metadata": {},
     "output_type": "display_data"
    }
   ],
   "source": [
    "# tuning the min_samples_split parameter\n",
    "\n",
    "accuracy_list_t = []\n",
    "accuracy_list_v = []\n",
    "\n",
    "for s in sample:\n",
    "    tree_model = DecisionTreeClassifier(random_state=50, min_samples_split=s)\n",
    "    tree_model.fit(train_x,train_y)\n",
    "    #predicting train data\n",
    "    y_pred_train = tree_model.predict(train_x)\n",
    "    accuracy_train = accuracy_score(train_y,y_pred_train)\n",
    "    # predicting val data\n",
    "    y_pred_val = tree_model.predict(val_x)\n",
    "    accuracy_val = accuracy_score(val_y,y_pred_val)\n",
    "    accuracy_list_t.append(accuracy_train)\n",
    "    accuracy_list_v.append(accuracy_val)\n",
    "\n",
    "plt.xlabel(\"min samples to split a node\")\n",
    "plt.ylabel(\"accuracy\")\n",
    "plt.title(\"Accuracy scores\")\n",
    "plt.xticks(ticks=range(len(sample)), labels=sample) #ticks:location, labels:labels @ given x tick location\n",
    "plt.plot(accuracy_list_t)\n",
    "plt.plot(accuracy_list_v)\n",
    "plt.legend([\"Train\",\"Validation\"])\n"
   ]
  },
  {
   "cell_type": "markdown",
   "id": "132aa5c5",
   "metadata": {
    "papermill": {
     "duration": 0.010908,
     "end_time": "2024-09-29T22:40:31.371230",
     "exception": false,
     "start_time": "2024-09-29T22:40:31.360322",
     "status": "completed"
    },
    "tags": []
   },
   "source": [
    " - As the min samples count increases, overfitting is reduced\n",
    " - There is a case of overfitting when the sample sizes are too low. <30\n",
    " - Between 30 to 50, training and validation accuracy comes closer "
   ]
  },
  {
   "cell_type": "code",
   "execution_count": 13,
   "id": "a908b263",
   "metadata": {
    "execution": {
     "iopub.execute_input": "2024-09-29T22:40:31.395521Z",
     "iopub.status.busy": "2024-09-29T22:40:31.394334Z",
     "iopub.status.idle": "2024-09-29T22:40:31.412985Z",
     "shell.execute_reply": "2024-09-29T22:40:31.411809Z"
    },
    "papermill": {
     "duration": 0.033392,
     "end_time": "2024-09-29T22:40:31.415566",
     "exception": false,
     "start_time": "2024-09-29T22:40:31.382174",
     "status": "completed"
    },
    "tags": []
   },
   "outputs": [
    {
     "name": "stdout",
     "output_type": "stream",
     "text": [
      "Metrics train:\n",
      "\tAccuracy score:0.866\n",
      "Metrics Validation:\n",
      "\tAccuracy score:0.870\n"
     ]
    }
   ],
   "source": [
    "# Final decision tree model\n",
    "\n",
    "tree_model = DecisionTreeClassifier(random_state=50, max_depth=4, min_samples_split=50)\n",
    "tree_model.fit(train_x,train_y)\n",
    "accuracy_train = accuracy_score(train_y, tree_model.predict(train_x))\n",
    "accuracy_val = accuracy_score(val_y, tree_model.predict(val_x))\n",
    "\n",
    "print(f\"Metrics train:\\n\\tAccuracy score:{accuracy_train:.3f}\")\n",
    "print(f\"Metrics Validation:\\n\\tAccuracy score:{accuracy_val:.3f}\")"
   ]
  },
  {
   "cell_type": "markdown",
   "id": "795748c2",
   "metadata": {
    "papermill": {
     "duration": 0.010557,
     "end_time": "2024-09-29T22:40:31.436824",
     "exception": false,
     "start_time": "2024-09-29T22:40:31.426267",
     "status": "completed"
    },
    "tags": []
   },
   "source": [
    "#### RANDOM FOREST"
   ]
  },
  {
   "cell_type": "code",
   "execution_count": 14,
   "id": "b884f48e",
   "metadata": {
    "execution": {
     "iopub.execute_input": "2024-09-29T22:40:31.460262Z",
     "iopub.status.busy": "2024-09-29T22:40:31.459444Z",
     "iopub.status.idle": "2024-09-29T22:40:31.465138Z",
     "shell.execute_reply": "2024-09-29T22:40:31.464053Z"
    },
    "papermill": {
     "duration": 0.019881,
     "end_time": "2024-09-29T22:40:31.467411",
     "exception": false,
     "start_time": "2024-09-29T22:40:31.447530",
     "status": "completed"
    },
    "tags": []
   },
   "outputs": [],
   "source": [
    "depth = [2,4,8,16,32,64]\n",
    "sample = [2,10, 30, 50, 100, 200, 300, 700]\n",
    "n_estimates = [10,50,100,200]"
   ]
  },
  {
   "cell_type": "code",
   "execution_count": 15,
   "id": "0f78830f",
   "metadata": {
    "execution": {
     "iopub.execute_input": "2024-09-29T22:40:31.491226Z",
     "iopub.status.busy": "2024-09-29T22:40:31.490367Z",
     "iopub.status.idle": "2024-09-29T22:40:33.364401Z",
     "shell.execute_reply": "2024-09-29T22:40:33.363172Z"
    },
    "papermill": {
     "duration": 1.888531,
     "end_time": "2024-09-29T22:40:33.366908",
     "exception": false,
     "start_time": "2024-09-29T22:40:31.478377",
     "status": "completed"
    },
    "tags": []
   },
   "outputs": [
    {
     "data": {
      "text/plain": [
       "<matplotlib.legend.Legend at 0x780baefcd4b0>"
      ]
     },
     "execution_count": 15,
     "metadata": {},
     "output_type": "execute_result"
    },
    {
     "data": {
      "image/png": "[encoded data removed]",
      "text/plain": [
       "<Figure size 640x480 with 1 Axes>"
      ]
     },
     "metadata": {},
     "output_type": "display_data"
    }
   ],
   "source": [
    "# tuning the max depth parameter\n",
    "accuracy_list_t = []\n",
    "accuracy_list_v = []\n",
    "\n",
    "for d in depth:\n",
    "    rf_model = RandomForestClassifier(max_depth=d, random_state=55)\n",
    "    rf_model.fit(train_x,train_y)\n",
    "    accuracy_train = accuracy_score(train_y,rf_model.predict(train_x))\n",
    "    accuracy_val = accuracy_score(val_y,rf_model.predict(val_x))\n",
    "    accuracy_list_t.append(accuracy_train)\n",
    "    accuracy_list_v.append(accuracy_val)\n",
    "\n",
    "plt.xlabel(\"max depth\")\n",
    "plt.ylabel(\"accurcay\")\n",
    "plt.title(\"Accuracy:Random Forest @ different Max depths\")\n",
    "plt.xticks(ticks=range(len(depth)), labels = depth)\n",
    "plt.plot(accuracy_list_t)\n",
    "plt.plot(accuracy_list_v)\n",
    "plt.legend([\"Train\",\"Validation\"])"
   ]
  },
  {
   "cell_type": "markdown",
   "id": "93eb9348",
   "metadata": {
    "papermill": {
     "duration": 0.012401,
     "end_time": "2024-09-29T22:40:33.391570",
     "exception": false,
     "start_time": "2024-09-29T22:40:33.379169",
     "status": "completed"
    },
    "tags": []
   },
   "source": [
    " - As the depth size increases, overfitting occurs\n",
    " - At depth = 4, validation accuracy is highest"
   ]
  },
  {
   "cell_type": "code",
   "execution_count": 16,
   "id": "de3264fe",
   "metadata": {
    "execution": {
     "iopub.execute_input": "2024-09-29T22:40:33.416921Z",
     "iopub.status.busy": "2024-09-29T22:40:33.416439Z",
     "iopub.status.idle": "2024-09-29T22:40:35.697628Z",
     "shell.execute_reply": "2024-09-29T22:40:35.696494Z"
    },
    "papermill": {
     "duration": 2.297402,
     "end_time": "2024-09-29T22:40:35.700569",
     "exception": false,
     "start_time": "2024-09-29T22:40:33.403167",
     "status": "completed"
    },
    "tags": []
   },
   "outputs": [
    {
     "data": {
      "text/plain": [
       "<matplotlib.legend.Legend at 0x780baf081b70>"
      ]
     },
     "execution_count": 16,
     "metadata": {},
     "output_type": "execute_result"
    },
    {
     "data": {
      "image/png": "[encoded data removed]",
      "text/plain": [
       "<Figure size 640x480 with 1 Axes>"
      ]
     },
     "metadata": {},
     "output_type": "display_data"
    }
   ],
   "source": [
    "# tuning the min sample size at each node to split parameter\n",
    "accuracy_list_t = []\n",
    "accuracy_list_v = []\n",
    "\n",
    "for s in sample:\n",
    "    rf_model = RandomForestClassifier(min_samples_split=s, random_state=55)\n",
    "    rf_model.fit(train_x,train_y)\n",
    "    accuracy_train = accuracy_score(train_y,rf_model.predict(train_x))\n",
    "    accuracy_val = accuracy_score(val_y,rf_model.predict(val_x))\n",
    "    accuracy_list_t.append(accuracy_train)\n",
    "    accuracy_list_v.append(accuracy_val)\n",
    "\n",
    "plt.xlabel(\"min samples at a node to split\")\n",
    "plt.ylabel(\"accurcay\")\n",
    "plt.title(\"Accuracy:Random Forest @ different min samples at each node to split\")\n",
    "plt.xticks(ticks=range(len(sample)), labels = sample)\n",
    "plt.plot(accuracy_list_t)\n",
    "plt.plot(accuracy_list_v)\n",
    "plt.legend([\"Train\",\"Validation\"])"
   ]
  },
  {
   "cell_type": "markdown",
   "id": "10d75ba5",
   "metadata": {
    "papermill": {
     "duration": 0.012127,
     "end_time": "2024-09-29T22:40:35.729061",
     "exception": false,
     "start_time": "2024-09-29T22:40:35.716934",
     "status": "completed"
    },
    "tags": []
   },
   "source": [
    " - As the min samples required at each node to split increases accuracy of the model drops\n",
    " - At 10, validation accuracy is highest and training accuracy is closer to validation. "
   ]
  },
  {
   "cell_type": "code",
   "execution_count": 17,
   "id": "fe8cb610",
   "metadata": {
    "execution": {
     "iopub.execute_input": "2024-09-29T22:40:35.757475Z",
     "iopub.status.busy": "2024-09-29T22:40:35.757013Z",
     "iopub.status.idle": "2024-09-29T22:40:37.072425Z",
     "shell.execute_reply": "2024-09-29T22:40:37.071187Z"
    },
    "papermill": {
     "duration": 1.331772,
     "end_time": "2024-09-29T22:40:37.074949",
     "exception": false,
     "start_time": "2024-09-29T22:40:35.743177",
     "status": "completed"
    },
    "tags": []
   },
   "outputs": [
    {
     "data": {
      "text/plain": [
       "<matplotlib.legend.Legend at 0x780baf06fdc0>"
      ]
     },
     "execution_count": 17,
     "metadata": {},
     "output_type": "execute_result"
    },
    {
     "data": {
      "image/png": "[encoded data removed]",
      "text/plain": [
       "<Figure size 640x480 with 1 Axes>"
      ]
     },
     "metadata": {},
     "output_type": "display_data"
    }
   ],
   "source": [
    "# tuning the n_estimators parameter\n",
    "# n_estimators : the number of Decision Trees that make up the Random Forest.\n",
    "\n",
    "accuracy_list_t = []\n",
    "accuracy_list_v = []\n",
    "\n",
    "for n in n_estimates:\n",
    "    rf_model = RandomForestClassifier(n_estimators=n, random_state=55)\n",
    "    rf_model.fit(train_x,train_y)\n",
    "    accuracy_train = accuracy_score(train_y,rf_model.predict(train_x))\n",
    "    accuracy_val = accuracy_score(val_y,rf_model.predict(val_x))\n",
    "    accuracy_list_t.append(accuracy_train)\n",
    "    accuracy_list_v.append(accuracy_val)\n",
    "\n",
    "plt.xlabel(\"number of trees\")\n",
    "plt.ylabel(\"accurcay\")\n",
    "plt.title(\"Accuracy:Random Forest @ different n_estimators\")\n",
    "plt.xticks(ticks=range(len(n_estimates)), labels = n_estimates)\n",
    "plt.plot(accuracy_list_t)\n",
    "plt.plot(accuracy_list_v)\n",
    "plt.legend([\"Train\",\"Validation\"])"
   ]
  },
  {
   "cell_type": "markdown",
   "id": "983a6744",
   "metadata": {
    "papermill": {
     "duration": 0.013035,
     "end_time": "2024-09-29T22:40:37.101109",
     "exception": false,
     "start_time": "2024-09-29T22:40:37.088074",
     "status": "completed"
    },
    "tags": []
   },
   "source": [
    "fitting a random forest with the following parameters:\n",
    "\n",
    " - max_depth: 16\n",
    " - min_samples_split: 10\n",
    " - n_estimators: 100"
   ]
  },
  {
   "cell_type": "code",
   "execution_count": 18,
   "id": "1a0711c0",
   "metadata": {
    "execution": {
     "iopub.execute_input": "2024-09-29T22:40:37.129172Z",
     "iopub.status.busy": "2024-09-29T22:40:37.128739Z",
     "iopub.status.idle": "2024-09-29T22:40:37.373564Z",
     "shell.execute_reply": "2024-09-29T22:40:37.372504Z"
    },
    "papermill": {
     "duration": 0.262122,
     "end_time": "2024-09-29T22:40:37.376280",
     "exception": false,
     "start_time": "2024-09-29T22:40:37.114158",
     "status": "completed"
    },
    "tags": []
   },
   "outputs": [],
   "source": [
    "random_forest_model = RandomForestClassifier(n_estimators = 100,\n",
    "                                             max_depth = 16, \n",
    "                                             min_samples_split = 10).fit(train_x,train_y)\n"
   ]
  },
  {
   "cell_type": "code",
   "execution_count": 19,
   "id": "ce453ac5",
   "metadata": {
    "execution": {
     "iopub.execute_input": "2024-09-29T22:40:37.404420Z",
     "iopub.status.busy": "2024-09-29T22:40:37.403953Z",
     "iopub.status.idle": "2024-09-29T22:40:37.441706Z",
     "shell.execute_reply": "2024-09-29T22:40:37.440253Z"
    },
    "papermill": {
     "duration": 0.054717,
     "end_time": "2024-09-29T22:40:37.444342",
     "exception": false,
     "start_time": "2024-09-29T22:40:37.389625",
     "status": "completed"
    },
    "tags": []
   },
   "outputs": [
    {
     "name": "stdout",
     "output_type": "stream",
     "text": [
      "Random Forest\n",
      "Metrics train:\n",
      "\tAccuracy score: 0.9319\n",
      "\n",
      "Metrics test:\n",
      "\tAccuracy score: 0.8967\n"
     ]
    }
   ],
   "source": [
    "print(f\"Random Forest\\nMetrics train:\\n\\tAccuracy score: {accuracy_score(random_forest_model.predict(train_x),train_y):.4f}\")\n",
    "print(f\"\\nMetrics test:\\n\\tAccuracy score: {accuracy_score(random_forest_model.predict(val_x),val_y):.4f}\")"
   ]
  },
  {
   "cell_type": "markdown",
   "id": "b1c7d765",
   "metadata": {
    "papermill": {
     "duration": 0.01325,
     "end_time": "2024-09-29T22:40:37.471010",
     "exception": false,
     "start_time": "2024-09-29T22:40:37.457760",
     "status": "completed"
    },
    "tags": []
   },
   "source": [
    "**NOTE**\n",
    "- we can use **max_features** parameter for random selection of a subset of the features"
   ]
  }
 ],
 "metadata": {
  "kaggle": {
   "accelerator": "none",
   "dataSources": [
    {
     "datasetId": 1582403,
     "sourceId": 2603715,
     "sourceType": "datasetVersion"
    }
   ],
   "dockerImageVersionId": 30775,
   "isGpuEnabled": false,
   "isInternetEnabled": true,
   "language": "python",
   "sourceType": "notebook"
  },
  "kernelspec": {
   "display_name": "Python 3",
   "language": "python",
   "name": "python3"
  },
  "language_info": {
   "codemirror_mode": {
    "name": "ipython",
    "version": 3
   },
   "file_extension": ".py",
   "mimetype": "text/x-python",
   "name": "python",
   "nbconvert_exporter": "python",
   "pygments_lexer": "ipython3",
   "version": "3.10.14"
  },
  "papermill": {
   "default_parameters": {},
   "duration": 13.450813,
   "end_time": "2024-09-29T22:40:38.005966",
   "environment_variables": {},
   "exception": null,
   "input_path": "__notebook__.ipynb",
   "output_path": "__notebook__.ipynb",
   "parameters": {},
   "start_time": "2024-09-29T22:40:24.555153",
   "version": "2.6.0"
  }
 },
 "nbformat": 4,
 "nbformat_minor": 5
}
